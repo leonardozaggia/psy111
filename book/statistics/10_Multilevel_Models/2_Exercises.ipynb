{
 "cells": [
  {
   "cell_type": "markdown",
   "metadata": {},
   "source": [
    "# 14.2 Exercises"
   ]
  },
  {
   "cell_type": "markdown",
   "metadata": {},
   "source": [
    "## The Dataset\n",
    "\n",
    "The `Oxboys` dataset consists of longitudinal height measurements for boys from Oxford, UK. Our goal for today is to predict `height` by `age`. The dataset contains the following variables:\n",
    "\n",
    "- `Subject` - Unique identifier for each child in the experiment\n",
    "- `age` - The standardized age \n",
    "- `height` - The height of the child in centimeters\n",
    "- `Occasion` - The result of converting age from a continuous variable to a categorical one (can be ignored)"
   ]
  },
  {
   "cell_type": "code",
   "execution_count": 1,
   "metadata": {},
   "outputs": [
    {
     "data": {
      "text/html": [
       "<div>\n",
       "<style scoped>\n",
       "    .dataframe tbody tr th:only-of-type {\n",
       "        vertical-align: middle;\n",
       "    }\n",
       "\n",
       "    .dataframe tbody tr th {\n",
       "        vertical-align: top;\n",
       "    }\n",
       "\n",
       "    .dataframe thead th {\n",
       "        text-align: right;\n",
       "    }\n",
       "</style>\n",
       "<table border=\"1\" class=\"dataframe\">\n",
       "  <thead>\n",
       "    <tr style=\"text-align: right;\">\n",
       "      <th></th>\n",
       "      <th>Subject</th>\n",
       "      <th>age</th>\n",
       "      <th>height</th>\n",
       "      <th>Occasion</th>\n",
       "    </tr>\n",
       "  </thead>\n",
       "  <tbody>\n",
       "    <tr>\n",
       "      <th>0</th>\n",
       "      <td>1</td>\n",
       "      <td>-1.0000</td>\n",
       "      <td>140.5</td>\n",
       "      <td>1</td>\n",
       "    </tr>\n",
       "    <tr>\n",
       "      <th>1</th>\n",
       "      <td>1</td>\n",
       "      <td>-0.7479</td>\n",
       "      <td>143.4</td>\n",
       "      <td>2</td>\n",
       "    </tr>\n",
       "    <tr>\n",
       "      <th>2</th>\n",
       "      <td>1</td>\n",
       "      <td>-0.4630</td>\n",
       "      <td>144.8</td>\n",
       "      <td>3</td>\n",
       "    </tr>\n",
       "    <tr>\n",
       "      <th>3</th>\n",
       "      <td>1</td>\n",
       "      <td>-0.1643</td>\n",
       "      <td>147.1</td>\n",
       "      <td>4</td>\n",
       "    </tr>\n",
       "    <tr>\n",
       "      <th>4</th>\n",
       "      <td>1</td>\n",
       "      <td>-0.0027</td>\n",
       "      <td>147.7</td>\n",
       "      <td>5</td>\n",
       "    </tr>\n",
       "    <tr>\n",
       "      <th>...</th>\n",
       "      <td>...</td>\n",
       "      <td>...</td>\n",
       "      <td>...</td>\n",
       "      <td>...</td>\n",
       "    </tr>\n",
       "    <tr>\n",
       "      <th>229</th>\n",
       "      <td>26</td>\n",
       "      <td>-0.0027</td>\n",
       "      <td>138.4</td>\n",
       "      <td>5</td>\n",
       "    </tr>\n",
       "    <tr>\n",
       "      <th>230</th>\n",
       "      <td>26</td>\n",
       "      <td>0.2466</td>\n",
       "      <td>138.9</td>\n",
       "      <td>6</td>\n",
       "    </tr>\n",
       "    <tr>\n",
       "      <th>231</th>\n",
       "      <td>26</td>\n",
       "      <td>0.5562</td>\n",
       "      <td>141.8</td>\n",
       "      <td>7</td>\n",
       "    </tr>\n",
       "    <tr>\n",
       "      <th>232</th>\n",
       "      <td>26</td>\n",
       "      <td>0.7781</td>\n",
       "      <td>142.6</td>\n",
       "      <td>8</td>\n",
       "    </tr>\n",
       "    <tr>\n",
       "      <th>233</th>\n",
       "      <td>26</td>\n",
       "      <td>1.0055</td>\n",
       "      <td>143.1</td>\n",
       "      <td>9</td>\n",
       "    </tr>\n",
       "  </tbody>\n",
       "</table>\n",
       "<p>234 rows × 4 columns</p>\n",
       "</div>"
      ],
      "text/plain": [
       "     Subject     age  height  Occasion\n",
       "0          1 -1.0000   140.5         1\n",
       "1          1 -0.7479   143.4         2\n",
       "2          1 -0.4630   144.8         3\n",
       "3          1 -0.1643   147.1         4\n",
       "4          1 -0.0027   147.7         5\n",
       "..       ...     ...     ...       ...\n",
       "229       26 -0.0027   138.4         5\n",
       "230       26  0.2466   138.9         6\n",
       "231       26  0.5562   141.8         7\n",
       "232       26  0.7781   142.6         8\n",
       "233       26  1.0055   143.1         9\n",
       "\n",
       "[234 rows x 4 columns]"
      ]
     },
     "execution_count": 1,
     "metadata": {},
     "output_type": "execute_result"
    }
   ],
   "source": [
    "# Load packages\n",
    "import numpy as np\n",
    "import pandas as pd\n",
    "import statsmodels.api as sm\n",
    "import statsmodels.formula.api as smf\n",
    "import seaborn as sns\n",
    "import matplotlib.pyplot as plt\n",
    "\n",
    "data = sm.datasets.get_rdataset(\"Oxboys\", \"nlme\").data\n",
    "data"
   ]
  },
  {
   "cell_type": "markdown",
   "metadata": {},
   "source": [
    "## Exercise 1: Data visualization\n",
    "\n",
    "To get a better feeling for the data, create two plots:\n",
    "\n",
    "- Plot 1: Scatterplot with a single regression line for `height` predicted by `age`\n",
    "- Plot 2: Scatterplot with a regression line for each subject for `height` predicted by `age`.\n",
    "\n",
    "Inspect the plots. Do you think multilevel modeling is needed for this data?"
   ]
  },
  {
   "cell_type": "code",
   "execution_count": null,
   "metadata": {},
   "outputs": [],
   "source": [
    "# TODO: Exercise 1\n",
    "\n",
    "# Plot 1: Plot with single regression line for height predicted by age\n",
    "sns.lmplot(x=\"...\", y=\"...\", data=data)\n",
    "plt.title(\"Combined regression\")\n",
    "\n",
    "# Plot 2: Plot with a regressin line for each subject\n",
    "sns.lmplot(x=\"...\", y=\"...\", hue=\"...\", data=data)\n",
    "plt.title(\"Subject-specific regressions\");"
   ]
  },
  {
   "cell_type": "markdown",
   "metadata": {},
   "source": [
    "## Exercise 2: Fitting a null model\n",
    "\n",
    "To find out how much variance in `height` is explained by `Subject` we begin by fitting a null model without any predictors. Set up the model and inspect the model output. To further analyze the data, calculate the ICC and interpret it. Which model parameter indicates the amount of variance in the intercept?"
   ]
  },
  {
   "cell_type": "code",
   "execution_count": 2,
   "metadata": {},
   "outputs": [],
   "source": [
    "# TODO: Exercise 2"
   ]
  },
  {
   "cell_type": "markdown",
   "metadata": {},
   "source": [
    "## Exercise 3: Fitting a random intercept model\n",
    "\n",
    "As seen in the null model, there is a lot of variance explained by the grouping variable `Subject`. Therefore, fitting one regression over all datapoints may lead to wrong interpretations and we need the model to account for inter-individual differences. To do so, please fit a random intercept model, predicting `height` with `age`. What is the average relationship between `age` and `height`?"
   ]
  },
  {
   "cell_type": "code",
   "execution_count": 3,
   "metadata": {},
   "outputs": [],
   "source": [
    "# TODO: Exercise 3"
   ]
  },
  {
   "cell_type": "markdown",
   "metadata": {},
   "source": [
    "## Exercise 4: Fitting a random intercept & random slope model\n",
    "\n",
    "To increase the flexibility in our model, we will now add random slopes as well, meaning that for every subject a random intecept and a random slope is fitted. Please specify the model and interpret the output."
   ]
  },
  {
   "cell_type": "code",
   "execution_count": 4,
   "metadata": {},
   "outputs": [],
   "source": [
    "# TODO: Exercise 4"
   ]
  },
  {
   "cell_type": "markdown",
   "metadata": {},
   "source": [
    "## Voluntary exercise 1: Fitting a random slope & fixed intercept model\n",
    "\n",
    "Until now we either looked at random intercept - fixed slope models (only the intercepts vary accross subject) or at random intercept - random slope moddels (intercept and slope vary accross subects). However, it is also possible to fit fixed intercept & random slope models. Find out how to do it and specify such a model. What is different compared to the random intercept & random slope model?\n",
    "\n",
    "**Important information:** There might be some warnings which refer to the model not converging. This is probably caused by the low variance in the slope (see above). The random effects in the model have very small or zero variance, indicating that the random effect might not be necessary or is poorly estimated. For now, you can ignore this warning. However, you should be extremely cautious when interpreting model estimates in case of convergence problems."
   ]
  },
  {
   "cell_type": "code",
   "execution_count": 5,
   "metadata": {},
   "outputs": [],
   "source": [
    "# TODO: Voluntary exercise 1"
   ]
  }
 ],
 "metadata": {
  "kernelspec": {
   "display_name": "psy111",
   "language": "python",
   "name": "python3"
  },
  "language_info": {
   "codemirror_mode": {
    "name": "ipython",
    "version": 3
   },
   "file_extension": ".py",
   "mimetype": "text/x-python",
   "name": "python",
   "nbconvert_exporter": "python",
   "pygments_lexer": "ipython3",
   "version": "3.13.0"
  }
 },
 "nbformat": 4,
 "nbformat_minor": 2
}
